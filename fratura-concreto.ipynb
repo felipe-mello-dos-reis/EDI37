{
 "cells": [
  {
   "cell_type": "code",
   "execution_count": 19,
   "metadata": {},
   "outputs": [],
   "source": [
    "\n",
    "# Importing all necessary libraries\n",
    "from keras.preprocessing.image import ImageDataGenerator\n",
    "from keras.models import Sequential\n",
    "from keras.layers import Conv2D, MaxPooling2D\n",
    "from keras.layers import Activation, Dropout, Flatten, Dense\n",
    "from keras import backend as K\n",
    "import pandas as pd\n",
    "import time\n",
    " \n",
    "img_width, img_height = 224, 224"
   ]
  },
  {
   "cell_type": "code",
   "execution_count": 20,
   "metadata": {},
   "outputs": [],
   "source": [
    "train_data_dir = 'output/train'\n",
    "validation_data_dir = 'output/test'\n",
    "nb_train_samples =400\n",
    "nb_validation_samples = 100\n",
    "epochs = 10\n",
    "# Batch size (number of samples propagated through the network at each training iteration)\n",
    "batch_size = 16"
   ]
  },
  {
   "cell_type": "code",
   "execution_count": 21,
   "metadata": {},
   "outputs": [],
   "source": [
    "# Checking the image data format used by Keras\n",
    "if K.image_data_format() == 'channels_first':\n",
    "    input_shape = (3, img_width, img_height)\n",
    "else:\n",
    "    input_shape = (img_width, img_height, 3)"
   ]
  },
  {
   "cell_type": "code",
   "execution_count": 22,
   "metadata": {},
   "outputs": [],
   "source": [
    "# Dicionário com a quantidade de neurônio por camada:\n",
    "Neuronios = [['Default', 32,32,64,0,64,1,'model_1_weights',0], \n",
    "             ['Default/2', 16,16,32,0,32,1,'model_2_weights',0],\n",
    "              ['Default*2', 64,64,128,0,128,1,'model_3_weights',0],\n",
    "              ['minimo', 1,1,2,0,2,1,'model_4_weights',0],\n",
    "              ['unitario', 1,1,1,0,1,1,'model_5_weights',0],\n",
    "              ['Default/4', 8,8,16,0,16,1,'model_6_weights',0],\n",
    "              ['Default/8', 4,4,8,0,8,1,'model_7_weights',0],\n",
    "              ['Default/16', 2,2,4,0,4,1,'model_8_weights',0],\n",
    "              ['Sem_C2/4', 8,8,0,0,16,1,'model_9_weights',0],\n",
    "              ['Com_C3/4', 8,8,16,16,16,1,'model_6_weights',0]]\n",
    "dic=pd.DataFrame(Neuronios,columns=['Nome','In','C_1','C_2','C_3','C_4,'Exit','Save','Time'])\n",
    "\n"
   ]
  },
  {
   "cell_type": "code",
   "execution_count": 27,
   "metadata": {},
   "outputs": [],
   "source": [
    "#Escolha da qtd de neurônios:\n",
    "linha=dic[dic['Nome']=='Default/4']"
   ]
  },
  {
   "cell_type": "code",
   "execution_count": 28,
   "metadata": {},
   "outputs": [],
   "source": [
    "\n",
    "\n",
    "\n",
    "model = Sequential()\n",
    "model.add(Conv2D(linha['In'].iloc[0], (2, 2), input_shape=input_shape))\n",
    "model.add(Activation('relu'))\n",
    "model.add(MaxPooling2D(pool_size=(2, 2)))\n",
    " \n",
    "model.add(Conv2D(linha['C_1'].iloc[0], (2, 2)))\n",
    "model.add(Activation('relu'))\n",
    "model.add(MaxPooling2D(pool_size=(2, 2)))\n",
    "\n",
    "if linha['C_2'].iloc[0] != 0:\n",
    "    model.add(Conv2D(linha['C_2'].iloc[0], (2, 2)))\n",
    "    model.add(Activation('relu'))\n",
    "    model.add(MaxPooling2D(pool_size=(2, 2)))\n",
    "\n",
    "\n",
    "if linha['C_3'].iloc[0] != 0:\n",
    "    model.add(Conv2D(linha['C_2'].iloc[0], (2, 2)))\n",
    "    model.add(Activation('relu'))\n",
    "    model.add(MaxPooling2D(pool_size=(2, 2)))\n",
    "\n",
    "# The output from the last convolutional layer is flattened into a 1D array\n",
    "model.add(Flatten())\n",
    "\n",
    "model.add(Dense(linha['C_4'].iloc[0]))\n",
    "model.add(Activation('relu'))\n",
    "model.add(Dropout(0.5))\n",
    "\n",
    "# A dense layer with a single unit is added for binary classification\n",
    "model.add(Dense(linha['Exit'].iloc[0]))\n",
    "model.add(Activation('sigmoid'))"
   ]
  },
  {
   "cell_type": "code",
   "execution_count": 29,
   "metadata": {},
   "outputs": [],
   "source": [
    "\n",
    "model.compile(loss='binary_crossentropy',# It measures the difference between the predicted outputs and the true labels, aiming to minimize this difference during training\n",
    "              optimizer='rmsprop', # It adapts the learning rate for each weight based on the magnitude of the gradients, allowing for faster convergence and better optimization performance\n",
    "              metrics=['accuracy']) # It calculates the proportion of correctly classified samples out of the total number of samples"
   ]
  },
  {
   "cell_type": "code",
   "execution_count": 30,
   "metadata": {},
   "outputs": [
    {
     "name": "stdout",
     "output_type": "stream",
     "text": [
      "Found 800 images belonging to 2 classes.\n",
      "Found 800 images belonging to 2 classes.\n"
     ]
    },
    {
     "name": "stdout",
     "output_type": "stream",
     "text": [
      "Epoch 1/10\n"
     ]
    },
    {
     "name": "stderr",
     "output_type": "stream",
     "text": [
      "2023-06-23 08:51:41.110400: I tensorflow/core/common_runtime/executor.cc:1197] [/device:CPU:0] (DEBUG INFO) Executor start aborting (this does not indicate an error and you can ignore this message): INVALID_ARGUMENT: You must feed a value for placeholder tensor 'Placeholder/_0' with dtype int32\n",
      "\t [[{{node Placeholder/_0}}]]\n"
     ]
    },
    {
     "name": "stdout",
     "output_type": "stream",
     "text": [
      "25/25 [==============================] - ETA: 0s - loss: 0.6907 - accuracy: 0.5075"
     ]
    },
    {
     "name": "stderr",
     "output_type": "stream",
     "text": [
      "2023-06-23 08:51:52.750103: I tensorflow/core/common_runtime/executor.cc:1197] [/device:CPU:0] (DEBUG INFO) Executor start aborting (this does not indicate an error and you can ignore this message): INVALID_ARGUMENT: You must feed a value for placeholder tensor 'Placeholder/_0' with dtype int32\n",
      "\t [[{{node Placeholder/_0}}]]\n"
     ]
    },
    {
     "name": "stdout",
     "output_type": "stream",
     "text": [
      "25/25 [==============================] - 12s 484ms/step - loss: 0.6907 - accuracy: 0.5075 - val_loss: 0.6847 - val_accuracy: 0.4896\n",
      "Epoch 2/10\n",
      "25/25 [==============================] - 11s 461ms/step - loss: 0.6441 - accuracy: 0.6425 - val_loss: 0.6934 - val_accuracy: 0.5625\n",
      "Epoch 3/10\n",
      "25/25 [==============================] - 11s 456ms/step - loss: 0.5633 - accuracy: 0.7550 - val_loss: 0.5727 - val_accuracy: 0.6979\n",
      "Epoch 4/10\n",
      "25/25 [==============================] - 11s 452ms/step - loss: 0.5480 - accuracy: 0.7450 - val_loss: 0.6612 - val_accuracy: 0.5208\n",
      "Epoch 5/10\n",
      "25/25 [==============================] - 11s 464ms/step - loss: 0.4475 - accuracy: 0.8025 - val_loss: 0.4282 - val_accuracy: 0.8750\n",
      "Epoch 6/10\n",
      "25/25 [==============================] - 11s 456ms/step - loss: 0.4336 - accuracy: 0.7950 - val_loss: 0.4069 - val_accuracy: 0.8646\n",
      "Epoch 7/10\n",
      "25/25 [==============================] - 11s 437ms/step - loss: 0.3710 - accuracy: 0.8225 - val_loss: 0.3862 - val_accuracy: 0.8646\n",
      "Epoch 8/10\n",
      "25/25 [==============================] - 11s 447ms/step - loss: 0.2797 - accuracy: 0.8725 - val_loss: 0.3702 - val_accuracy: 0.8229\n",
      "Epoch 9/10\n",
      "25/25 [==============================] - 11s 447ms/step - loss: 0.3024 - accuracy: 0.8775 - val_loss: 0.2190 - val_accuracy: 0.9479\n",
      "Epoch 10/10\n",
      "25/25 [==============================] - 11s 443ms/step - loss: 0.2509 - accuracy: 0.9150 - val_loss: 0.2711 - val_accuracy: 0.9375\n"
     ]
    }
   ],
   "source": [
    "start = time.time()\n",
    "\n",
    "train_datagen = ImageDataGenerator(\n",
    "    rescale=1. / 255,\n",
    "    shear_range=0.2,\n",
    "    zoom_range=0.2,\n",
    "    horizontal_flip=True)\n",
    " \n",
    "test_datagen = ImageDataGenerator(rescale=1. / 255)\n",
    " \n",
    "train_generator = train_datagen.flow_from_directory(\n",
    "    train_data_dir,\n",
    "    target_size=(img_width, img_height),\n",
    "    batch_size=batch_size,\n",
    "    class_mode='binary')\n",
    " \n",
    "validation_generator = test_datagen.flow_from_directory(\n",
    "    validation_data_dir,\n",
    "    target_size=(img_width, img_height),\n",
    "    batch_size=batch_size,\n",
    "    class_mode='binary')\n",
    " \n",
    "model.fit(\n",
    "    train_generator,\n",
    "    steps_per_epoch=nb_train_samples // batch_size,\n",
    "    epochs=epochs,\n",
    "    validation_data=validation_generator,\n",
    "    validation_steps=nb_validation_samples // batch_size)\n",
    "\n",
    "end = time.time()\n",
    "\n",
    "dic.loc[dic['Save']==linha['Save'].iloc[0],'Time']=end-start"
   ]
  },
  {
   "cell_type": "code",
   "execution_count": 31,
   "metadata": {},
   "outputs": [],
   "source": [
    "# model.save_weights(linha['Save'].iloc[0]+'.h5')\n",
    "model.save(linha['Save'].iloc[0]+'.h5')\n"
   ]
  },
  {
   "cell_type": "code",
   "execution_count": 32,
   "metadata": {},
   "outputs": [
    {
     "name": "stdout",
     "output_type": "stream",
     "text": [
      "1/1 [==============================] - 0s 67ms/step\n",
      "Predicted \\Class (0 - Negative , 1- Positive):  0.9883701\n"
     ]
    }
   ],
   "source": [
    "# Identificando rachadura da sala de aula\n",
    "\n",
    "from keras.models import load_model\n",
    "from tensorflow.keras.preprocessing.image import load_img\n",
    "from tensorflow.keras.preprocessing.image import img_to_array\n",
    "from keras.applications.vgg16 import preprocess_input\n",
    "from keras.applications.vgg16 import decode_predictions\n",
    "from keras.applications.vgg16 import VGG16\n",
    "import numpy as np\n",
    " \n",
    "from keras.models import load_model\n",
    " \n",
    "model = load_model(linha['Save'].iloc[0]+'.h5')\n",
    " \n",
    "image = load_img('sala_de_aula_2.jpeg', target_size=(224, 224))\n",
    "img = np.array(image)\n",
    "img = img / 255.0\n",
    "img = img.reshape(1,224,224,3)\n",
    "label = model.predict(img)\n",
    "print(\"Predicted \\Class (0 - Negative , 1- Positive): \", label[0][0])"
   ]
  },
  {
   "cell_type": "code",
   "execution_count": 33,
   "metadata": {},
   "outputs": [],
   "source": [
    "#Variável de escolha dos pesos\n",
    "var_pesos=linha['Save'].iloc[0]\n",
    "# Se quiser pegar o peso que acabou de calcular, use:\n",
    "# linha['Save'].iloc[0]\n",
    "# Se quiser pegar um peso antigo, use:\n",
    "#'model_5_weights' "
   ]
  },
  {
   "cell_type": "code",
   "execution_count": 34,
   "metadata": {},
   "outputs": [
    {
     "name": "stdout",
     "output_type": "stream",
     "text": [
      "1/1 [==============================] - 0s 79ms/step\n",
      "1/1 [==============================] - 0s 50ms/step\n",
      "1/1 [==============================] - 0s 79ms/step\n",
      "1/1 [==============================] - 0s 47ms/step\n",
      "1/1 [==============================] - 0s 35ms/step\n",
      "1/1 [==============================] - 0s 61ms/step\n",
      "1/1 [==============================] - 0s 56ms/step\n",
      "1/1 [==============================] - 0s 59ms/step\n",
      "1/1 [==============================] - 0s 61ms/step\n",
      "1/1 [==============================] - 0s 58ms/step\n",
      "1/1 [==============================] - 0s 46ms/step\n",
      "1/1 [==============================] - 0s 67ms/step\n",
      "1/1 [==============================] - 0s 50ms/step\n",
      "1/1 [==============================] - 0s 50ms/step\n",
      "1/1 [==============================] - 0s 52ms/step\n",
      "1/1 [==============================] - 0s 63ms/step\n",
      "1/1 [==============================] - 0s 51ms/step\n",
      "1/1 [==============================] - 0s 66ms/step\n",
      "1/1 [==============================] - 0s 59ms/step\n",
      "1/1 [==============================] - 0s 55ms/step\n",
      "1/1 [==============================] - 0s 79ms/step\n",
      "1/1 [==============================] - 0s 56ms/step\n",
      "1/1 [==============================] - 0s 37ms/step\n",
      "1/1 [==============================] - 0s 61ms/step\n",
      "1/1 [==============================] - 0s 56ms/step\n",
      "1/1 [==============================] - 0s 52ms/step\n",
      "1/1 [==============================] - 0s 51ms/step\n",
      "1/1 [==============================] - 0s 46ms/step\n",
      "1/1 [==============================] - 0s 47ms/step\n",
      "1/1 [==============================] - 0s 52ms/step\n",
      "1/1 [==============================] - 0s 58ms/step\n",
      "1/1 [==============================] - 0s 53ms/step\n",
      "1/1 [==============================] - 0s 50ms/step\n",
      "1/1 [==============================] - 0s 66ms/step\n",
      "1/1 [==============================] - 0s 66ms/step\n",
      "1/1 [==============================] - 0s 50ms/step\n",
      "1/1 [==============================] - 0s 68ms/step\n",
      "1/1 [==============================] - 0s 56ms/step\n",
      "1/1 [==============================] - 0s 67ms/step\n",
      "1/1 [==============================] - 0s 53ms/step\n",
      "1/1 [==============================] - 0s 52ms/step\n",
      "1/1 [==============================] - 0s 50ms/step\n",
      "1/1 [==============================] - 0s 50ms/step\n",
      "1/1 [==============================] - 0s 74ms/step\n",
      "1/1 [==============================] - 0s 55ms/step\n",
      "1/1 [==============================] - 0s 56ms/step\n",
      "1/1 [==============================] - 0s 48ms/step\n",
      "1/1 [==============================] - 0s 50ms/step\n",
      "1/1 [==============================] - 0s 54ms/step\n",
      "1/1 [==============================] - 0s 49ms/step\n"
     ]
    }
   ],
   "source": [
    "import os\n",
    "import numpy as np\n",
    "import matplotlib.pyplot as plt\n",
    "from tensorflow.keras.preprocessing.image import load_img\n",
    "from tensorflow.keras.preprocessing.image import img_to_array\n",
    "from keras.models import load_model\n",
    "\n",
    "# Load the pre-trained model\n",
    "model = load_model(var_pesos+'.h5')\n",
    "\n",
    "# Set the folder path containing the images\n",
    "folder_path = 'output/validation/Negative'\n",
    "\n",
    "# Initialize empty lists for storing predictions\n",
    "negative_predictions = []\n",
    "\n",
    "# Iterate over the images in the folder\n",
    "for root, dirs, files in os.walk(folder_path):\n",
    "    for file in files:\n",
    "        # Load and preprocess the image\n",
    "        image_path = os.path.join(root, file)\n",
    "        image = load_img(image_path, target_size=(224, 224))\n",
    "        img = img_to_array(image)\n",
    "        img = img / 255.0\n",
    "        img = np.expand_dims(img, axis=0)\n",
    "\n",
    "        # Make a prediction using the model\n",
    "        pred = model.predict(img)\n",
    "        negative_predictions.append(pred[0][0])\n",
    "\n",
    "# Convert the negative_predictions to numpy array\n",
    "negative_predictions = np.array(negative_predictions)\n",
    "\n",
    "\n"
   ]
  },
  {
   "cell_type": "code",
   "execution_count": 35,
   "metadata": {},
   "outputs": [
    {
     "data": {
      "image/png": "[encoded data removed]",
      "text/plain": [
       "<Figure size 640x480 with 1 Axes>"
      ]
     },
     "metadata": {},
     "output_type": "display_data"
    }
   ],
   "source": [
    "# Plot the histogram\n",
    "plt.hist(negative_predictions, bins=15, edgecolor='black', range=(0,1))\n",
    "plt.axvline(x=0.35,color='red',linestyle='dashed')\n",
    "plt.xlabel('Predicted Class')\n",
    "plt.ylabel('Count')\n",
    "#plt.xticks([0.35, 0.5, 0.65], ['Negative', 'Neutral', 'Positive'])  # Adjust the labels based on your classes\n",
    "plt.title('Distribution of Predicted Classes for Negative Images')\n",
    "plt.show()"
   ]
  },
  {
   "cell_type": "code",
   "execution_count": 36,
   "metadata": {},
   "outputs": [
    {
     "name": "stdout",
     "output_type": "stream",
     "text": [
      "1/1 [==============================] - 0s 28ms/step\n"
     ]
    },
    {
     "name": "stdout",
     "output_type": "stream",
     "text": [
      "1/1 [==============================] - 0s 71ms/step\n",
      "1/1 [==============================] - 0s 77ms/step\n",
      "1/1 [==============================] - 0s 69ms/step\n",
      "1/1 [==============================] - 0s 50ms/step\n",
      "1/1 [==============================] - 0s 50ms/step\n",
      "1/1 [==============================] - 0s 59ms/step\n",
      "1/1 [==============================] - 0s 65ms/step\n",
      "1/1 [==============================] - 0s 59ms/step\n",
      "1/1 [==============================] - 0s 54ms/step\n",
      "1/1 [==============================] - 0s 57ms/step\n",
      "1/1 [==============================] - 0s 55ms/step\n",
      "1/1 [==============================] - 0s 60ms/step\n",
      "1/1 [==============================] - 0s 48ms/step\n",
      "1/1 [==============================] - 0s 57ms/step\n",
      "1/1 [==============================] - 0s 62ms/step\n",
      "1/1 [==============================] - 0s 51ms/step\n",
      "1/1 [==============================] - 0s 55ms/step\n",
      "1/1 [==============================] - 0s 57ms/step\n",
      "1/1 [==============================] - 0s 70ms/step\n",
      "1/1 [==============================] - 0s 58ms/step\n",
      "1/1 [==============================] - 0s 51ms/step\n",
      "1/1 [==============================] - 0s 76ms/step\n",
      "1/1 [==============================] - 0s 57ms/step\n",
      "1/1 [==============================] - 0s 54ms/step\n",
      "1/1 [==============================] - 0s 55ms/step\n",
      "1/1 [==============================] - 0s 53ms/step\n",
      "1/1 [==============================] - 0s 54ms/step\n",
      "1/1 [==============================] - 0s 57ms/step\n",
      "1/1 [==============================] - 0s 58ms/step\n",
      "1/1 [==============================] - 0s 51ms/step\n",
      "1/1 [==============================] - 0s 91ms/step\n",
      "1/1 [==============================] - 0s 64ms/step\n",
      "1/1 [==============================] - 0s 40ms/step\n",
      "1/1 [==============================] - 0s 51ms/step\n",
      "1/1 [==============================] - 0s 53ms/step\n",
      "1/1 [==============================] - 0s 82ms/step\n",
      "1/1 [==============================] - 0s 55ms/step\n",
      "1/1 [==============================] - 0s 60ms/step\n",
      "1/1 [==============================] - 0s 65ms/step\n",
      "1/1 [==============================] - 0s 60ms/step\n",
      "1/1 [==============================] - 0s 48ms/step\n",
      "1/1 [==============================] - 0s 57ms/step\n",
      "1/1 [==============================] - 0s 54ms/step\n",
      "1/1 [==============================] - 0s 50ms/step\n",
      "1/1 [==============================] - 0s 46ms/step\n",
      "1/1 [==============================] - 0s 69ms/step\n",
      "1/1 [==============================] - 0s 55ms/step\n",
      "1/1 [==============================] - 0s 51ms/step\n",
      "1/1 [==============================] - 0s 45ms/step\n"
     ]
    }
   ],
   "source": [
    "import os\n",
    "import numpy as np\n",
    "import matplotlib.pyplot as plt\n",
    "from tensorflow.keras.preprocessing.image import load_img\n",
    "from tensorflow.keras.preprocessing.image import img_to_array\n",
    "from keras.models import load_model\n",
    "\n",
    "# Load the pre-trained model\n",
    "model = load_model(var_pesos+'.h5')\n",
    "\n",
    "# Set the folder path containing the images\n",
    "folder_path = 'output/validation/Positive'\n",
    "\n",
    "# Initialize empty lists for storing predictions\n",
    "positive_predictions = []\n",
    "\n",
    "# Iterate over the images in the folder\n",
    "for root, dirs, files in os.walk(folder_path):\n",
    "    for file in files:\n",
    "        # Load and preprocess the image\n",
    "        image_path = os.path.join(root, file)\n",
    "        image = load_img(image_path, target_size=(224, 224))\n",
    "        img = img_to_array(image)\n",
    "        img = img / 255.0\n",
    "        img = np.expand_dims(img, axis=0)\n",
    "\n",
    "        # Make a prediction using the model\n",
    "        pred = model.predict(img)\n",
    "        positive_predictions.append(pred[0][0])\n",
    "\n",
    "# Convert the predictions to numpy array\n",
    "positive_predictions = np.array(positive_predictions)\n",
    "\n"
   ]
  },
  {
   "cell_type": "code",
   "execution_count": 37,
   "metadata": {},
   "outputs": [
    {
     "data": {
      "image/png": "[encoded data removed]",
      "text/plain": [
       "<Figure size 640x480 with 1 Axes>"
      ]
     },
     "metadata": {},
     "output_type": "display_data"
    }
   ],
   "source": [
    "\n",
    "# Plot the histogram\n",
    "plt.hist(positive_predictions, bins=15, edgecolor='black', range=(0,1))\n",
    "plt.axvline(x=0.65,color='red',linestyle='dashed')\n",
    "plt.xlabel('Predicted Class')\n",
    "plt.ylabel('Count')\n",
    "#plt.xticks([0.35, 0.5, 0.65], ['Negative', 'Neutral', 'Positive'])  # Adjust the labels based on your classes\n",
    "plt.title('Distribution of Predicted Classes for Positive Images')\n",
    "plt.show()"
   ]
  },
  {
   "cell_type": "code",
   "execution_count": 38,
   "metadata": {},
   "outputs": [],
   "source": [
    "dic.loc[dic['Save']==var_pesos,'Acerto']=len(positive_predictions[positive_predictions>=0.65])+len(negative_predictions[negative_predictions<=0.35])\n",
    "dic.loc[dic['Save']==var_pesos,'Erros']=len(positive_predictions)+len(negative_predictions)-dic.loc[dic['Save']==var_pesos,'Acerto']"
   ]
  },
  {
   "cell_type": "code",
   "execution_count": 167,
   "metadata": {},
   "outputs": [],
   "source": [
    "# dic.to_csv('Dicionario_dados.csv')"
   ]
  }
 ],
 "metadata": {
  "kernelspec": {
   "display_name": "Python 3",
   "language": "python",
   "name": "python3"
  },
  "language_info": {
   "codemirror_mode": {
    "name": "ipython",
    "version": 3
   },
   "file_extension": ".py",
   "mimetype": "text/x-python",
   "name": "python",
   "nbconvert_exporter": "python",
   "pygments_lexer": "ipython3",
   "version": "3.11.3"
  },
  "orig_nbformat": 4
 },
 "nbformat": 4,
 "nbformat_minor": 2
}
