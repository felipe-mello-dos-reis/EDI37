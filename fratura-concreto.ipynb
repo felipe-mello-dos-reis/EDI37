{
 "cells": [
  {
   "attachments": {},
   "cell_type": "markdown",
   "metadata": {},
   "source": [
    "## Import das bibliotecas"
   ]
  },
  {
   "cell_type": "code",
   "execution_count": 70,
   "metadata": {},
   "outputs": [],
   "source": [
    "\n",
    "# Importing all necessary libraries\n",
    "from keras.preprocessing.image import ImageDataGenerator\n",
    "from keras.models import Sequential\n",
    "from keras.layers import Conv2D, MaxPooling2D\n",
    "from keras.layers import Activation, Dropout, Flatten, Dense\n",
    "from keras import backend as K\n",
    "import pandas as pd\n",
    "import time\n",
    " \n",
    "img_width, img_height = 224, 224"
   ]
  },
  {
   "attachments": {},
   "cell_type": "markdown",
   "metadata": {},
   "source": [
    "## Parâmetros de Rede"
   ]
  },
  {
   "cell_type": "code",
   "execution_count": 71,
   "metadata": {},
   "outputs": [],
   "source": [
    "train_data_dir = 'output/train'\n",
    "validation_data_dir = 'output/test'\n",
    "nb_train_samples =400\n",
    "nb_validation_samples = 100\n",
    "epochs = 10\n",
    "# Batch size (number of samples propagated through the network at each training iteration)\n",
    "batch_size = 16"
   ]
  },
  {
   "cell_type": "code",
   "execution_count": 72,
   "metadata": {},
   "outputs": [],
   "source": [
    "# Checking the image data format used by Keras\n",
    "if K.image_data_format() == 'channels_first':\n",
    "    input_shape = (3, img_width, img_height)\n",
    "else:\n",
    "    input_shape = (img_width, img_height, 3)"
   ]
  },
  {
   "attachments": {},
   "cell_type": "markdown",
   "metadata": {},
   "source": [
    "## Dicionário com a quantidade de Neurônios por Camada:"
   ]
  },
  {
   "cell_type": "code",
   "execution_count": 73,
   "metadata": {},
   "outputs": [],
   "source": [
    "# Dicionário com a quantidade de neurônio por camada:\n",
    "Neuronios = [\n",
    "              ['Default', 32,32,64,0,64,1,'model_1_weights',0,0,0], \n",
    "              ['Default/2', 16,16,32,0,32,1,'model_2_weights',0,0,0],\n",
    "              ['Default*2', 64,64,128,0,128,1,'model_3_weights',0,0,0],\n",
    "              ['Minimo', 1,1,2,0,2,1,'model_4_weights',0,0,0],\n",
    "              ['Unitario', 1,1,1,0,1,1,'model_5_weights',0,0,0],\n",
    "              ['Default/4', 8,8,16,0,16,1,'model_6_weights',0,0,0],\n",
    "              ['Default/8', 4,4,8,0,8,1,'model_7_weights',0,0,0],\n",
    "              ['Minimo*2', 2,2,4,0,4,1,'model_8_weights',0,0,0],\n",
    "              ['Default/4_SEM_C2', 8,8,0,0,16,1,'model_9_weights',0,0,0],\n",
    "              ['Default/4_COM_C4', 8,8,16,16,16,1,'model_10_weights',0,0,0]\n",
    "              ]\n",
    "dic=pd.DataFrame(Neuronios,columns=['Nome','In','C_1','C_2','C_3','C_4','Exit','Save','Time','Acertos','Erros'])\n",
    "\n"
   ]
  },
  {
   "attachments": {},
   "cell_type": "markdown",
   "metadata": {},
   "source": [
    "## Escolha da quantidade de neurônios pela linha do dicionário"
   ]
  },
  {
   "cell_type": "code",
   "execution_count": 373,
   "metadata": {},
   "outputs": [],
   "source": [
    "#Escolha da qtd de neurônios:\n",
    "linha=dic[dic['Nome']=='Default']"
   ]
  },
  {
   "attachments": {},
   "cell_type": "markdown",
   "metadata": {},
   "source": [
    "## Criação das Camadas da NN"
   ]
  },
  {
   "cell_type": "code",
   "execution_count": 374,
   "metadata": {},
   "outputs": [],
   "source": [
    "\n",
    "model = Sequential()\n",
    "model.add(Conv2D(linha['In'].iloc[0], (2, 2), input_shape=input_shape))\n",
    "model.add(Activation('relu'))\n",
    "model.add(MaxPooling2D(pool_size=(2, 2)))\n",
    " \n",
    "model.add(Conv2D(linha['C_1'].iloc[0], (2, 2)))\n",
    "model.add(Activation('relu'))\n",
    "model.add(MaxPooling2D(pool_size=(2, 2)))\n",
    "\n",
    "if linha['C_2'].iloc[0] != 0:\n",
    "    model.add(Conv2D(linha['C_2'].iloc[0], (2, 2)))\n",
    "    model.add(Activation('relu'))\n",
    "    model.add(MaxPooling2D(pool_size=(2, 2)))\n",
    "\n",
    "\n",
    "if linha['C_3'].iloc[0] != 0:\n",
    "    model.add(Conv2D(linha['C_3'].iloc[0], (2, 2)))\n",
    "    model.add(Activation('relu'))\n",
    "    model.add(MaxPooling2D(pool_size=(2, 2)))\n",
    "\n",
    "# The output from the last convolutional layer is flattened into a 1D array\n",
    "model.add(Flatten())\n",
    "\n",
    "model.add(Dense(linha['C_4'].iloc[0]))\n",
    "model.add(Activation('relu'))\n",
    "model.add(Dropout(0.5))\n",
    "\n",
    "# A dense layer with a single unit is added for binary classification\n",
    "model.add(Dense(linha['Exit'].iloc[0]))\n",
    "model.add(Activation('sigmoid'))"
   ]
  },
  {
   "attachments": {},
   "cell_type": "markdown",
   "metadata": {},
   "source": [
    "## Método de Compilação do Modelo:"
   ]
  },
  {
   "cell_type": "code",
   "execution_count": 375,
   "metadata": {},
   "outputs": [],
   "source": [
    "\n",
    "model.compile(loss='binary_crossentropy',# It measures the difference between the predicted outputs and the true labels, aiming to minimize this difference during training\n",
    "              optimizer='rmsprop', # It adapts the learning rate for each weight based on the magnitude of the gradients, allowing for faster convergence and better optimization performance\n",
    "              metrics=['accuracy']) # It calculates the proportion of correctly classified samples out of the total number of samples"
   ]
  },
  {
   "attachments": {},
   "cell_type": "markdown",
   "metadata": {},
   "source": [
    "## Treinamento do Modelo"
   ]
  },
  {
   "cell_type": "code",
   "execution_count": 376,
   "metadata": {},
   "outputs": [
    {
     "name": "stdout",
     "output_type": "stream",
     "text": [
      "Found 800 images belonging to 2 classes.\n",
      "Found 800 images belonging to 2 classes.\n"
     ]
    },
    {
     "name": "stdout",
     "output_type": "stream",
     "text": [
      "Epoch 1/10\n"
     ]
    },
    {
     "name": "stderr",
     "output_type": "stream",
     "text": [
      "2023-06-23 18:34:17.464389: I tensorflow/core/common_runtime/executor.cc:1197] [/device:CPU:0] (DEBUG INFO) Executor start aborting (this does not indicate an error and you can ignore this message): INVALID_ARGUMENT: You must feed a value for placeholder tensor 'Placeholder/_0' with dtype int32\n",
      "\t [[{{node Placeholder/_0}}]]\n"
     ]
    },
    {
     "name": "stdout",
     "output_type": "stream",
     "text": [
      "25/25 [==============================] - ETA: 0s - loss: 0.8958 - accuracy: 0.5275"
     ]
    },
    {
     "name": "stderr",
     "output_type": "stream",
     "text": [
      "2023-06-23 18:34:26.722099: I tensorflow/core/common_runtime/executor.cc:1197] [/device:CPU:0] (DEBUG INFO) Executor start aborting (this does not indicate an error and you can ignore this message): INVALID_ARGUMENT: You must feed a value for placeholder tensor 'Placeholder/_0' with dtype int32\n",
      "\t [[{{node Placeholder/_0}}]]\n"
     ]
    },
    {
     "name": "stdout",
     "output_type": "stream",
     "text": [
      "25/25 [==============================] - 10s 348ms/step - loss: 0.8958 - accuracy: 0.5275 - val_loss: 0.7078 - val_accuracy: 0.5417\n",
      "Epoch 2/10\n",
      "25/25 [==============================] - 8s 319ms/step - loss: 0.6723 - accuracy: 0.6175 - val_loss: 0.6415 - val_accuracy: 0.7396\n",
      "Epoch 3/10\n",
      "25/25 [==============================] - 9s 339ms/step - loss: 0.5700 - accuracy: 0.7425 - val_loss: 0.8034 - val_accuracy: 0.5938\n",
      "Epoch 4/10\n",
      "25/25 [==============================] - 9s 342ms/step - loss: 0.4741 - accuracy: 0.8050 - val_loss: 0.3934 - val_accuracy: 0.8542\n",
      "Epoch 5/10\n",
      "25/25 [==============================] - 8s 334ms/step - loss: 0.3727 - accuracy: 0.8350 - val_loss: 0.2799 - val_accuracy: 0.9271\n",
      "Epoch 6/10\n",
      "25/25 [==============================] - 9s 367ms/step - loss: 0.2869 - accuracy: 0.8875 - val_loss: 0.1617 - val_accuracy: 0.9479\n",
      "Epoch 7/10\n",
      "25/25 [==============================] - 8s 327ms/step - loss: 0.2327 - accuracy: 0.9275 - val_loss: 0.1828 - val_accuracy: 0.9375\n",
      "Epoch 8/10\n",
      "25/25 [==============================] - 9s 348ms/step - loss: 0.1735 - accuracy: 0.9550 - val_loss: 0.0761 - val_accuracy: 1.0000\n",
      "Epoch 9/10\n",
      "25/25 [==============================] - 8s 335ms/step - loss: 0.1770 - accuracy: 0.9525 - val_loss: 0.0548 - val_accuracy: 1.0000\n",
      "Epoch 10/10\n",
      "25/25 [==============================] - 8s 301ms/step - loss: 0.1798 - accuracy: 0.9400 - val_loss: 0.0866 - val_accuracy: 0.9583\n"
     ]
    }
   ],
   "source": [
    "start = time.time()\n",
    "\n",
    "train_datagen = ImageDataGenerator(\n",
    "    rescale=1. / 255,\n",
    "    shear_range=0.2,\n",
    "    zoom_range=0.2,\n",
    "    horizontal_flip=True)\n",
    " \n",
    "test_datagen = ImageDataGenerator(rescale=1. / 255)\n",
    " \n",
    "train_generator = train_datagen.flow_from_directory(\n",
    "    train_data_dir,\n",
    "    target_size=(img_width, img_height),\n",
    "    batch_size=batch_size,\n",
    "    class_mode='binary')\n",
    " \n",
    "validation_generator = test_datagen.flow_from_directory(\n",
    "    validation_data_dir,\n",
    "    target_size=(img_width, img_height),\n",
    "    batch_size=batch_size,\n",
    "    class_mode='binary')\n",
    " \n",
    "model.fit(\n",
    "    train_generator,\n",
    "    steps_per_epoch=nb_train_samples // batch_size,\n",
    "    epochs=epochs,\n",
    "    validation_data=validation_generator,\n",
    "    validation_steps=nb_validation_samples // batch_size)\n",
    "\n",
    "end = time.time()\n",
    "\n",
    "dic.loc[dic['Save']==linha['Save'].iloc[0],'Time']=end-start"
   ]
  },
  {
   "attachments": {},
   "cell_type": "markdown",
   "metadata": {},
   "source": [
    "## Salvando os pesos calculados para cada Neurônio, conforme a qtd de neurônios por camada"
   ]
  },
  {
   "cell_type": "code",
   "execution_count": 377,
   "metadata": {},
   "outputs": [],
   "source": [
    "model.save(linha['Save'].iloc[0]+'.h5')\n"
   ]
  },
  {
   "attachments": {},
   "cell_type": "markdown",
   "metadata": {},
   "source": [
    "## Identificação de Imagens:"
   ]
  },
  {
   "cell_type": "code",
   "execution_count": 378,
   "metadata": {},
   "outputs": [
    {
     "name": "stdout",
     "output_type": "stream",
     "text": [
      "1/1 [==============================] - 0s 58ms/step\n",
      "Predicted \\Class (0 - Negative , 1- Positive):  0.99822056\n"
     ]
    }
   ],
   "source": [
    "# Identificando rachadura da sala de aula\n",
    "\n",
    "from keras.models import load_model\n",
    "from tensorflow.keras.preprocessing.image import load_img\n",
    "from tensorflow.keras.preprocessing.image import img_to_array\n",
    "from keras.applications.vgg16 import preprocess_input\n",
    "from keras.applications.vgg16 import decode_predictions\n",
    "from keras.applications.vgg16 import VGG16\n",
    "import numpy as np\n",
    " \n",
    "from keras.models import load_model\n",
    " \n",
    "model = load_model(linha['Save'].iloc[0]+'.h5')\n",
    " \n",
    "image = load_img('sala_de_aula_2.jpeg', target_size=(224, 224))\n",
    "img = np.array(image)\n",
    "img = img / 255.0\n",
    "img = img.reshape(1,224,224,3)\n",
    "label = model.predict(img)\n",
    "print(\"Predicted \\Class (0 - Negative , 1- Positive): \", label[0][0])"
   ]
  },
  {
   "attachments": {},
   "cell_type": "markdown",
   "metadata": {},
   "source": [
    "## Variável de Escolha dos Pesos"
   ]
  },
  {
   "cell_type": "code",
   "execution_count": 379,
   "metadata": {},
   "outputs": [],
   "source": [
    "#Variável de escolha dos pesos\n",
    "var_pesos=linha['Save'].iloc[0]\n",
    "# Se quiser pegar o peso que acabou de calcular, use:\n",
    "# linha['Save'].iloc[0]\n",
    "# Se quiser pegar um peso antigo, use:\n",
    "#'model_5_weights' "
   ]
  },
  {
   "attachments": {},
   "cell_type": "markdown",
   "metadata": {},
   "source": [
    "## Import das bibliotecas para Análise da base"
   ]
  },
  {
   "cell_type": "code",
   "execution_count": 380,
   "metadata": {},
   "outputs": [],
   "source": [
    "import os\n",
    "import numpy as np\n",
    "import matplotlib.pyplot as plt\n",
    "from tensorflow.keras.preprocessing.image import load_img\n",
    "from tensorflow.keras.preprocessing.image import img_to_array\n",
    "from keras.models import load_model"
   ]
  },
  {
   "attachments": {},
   "cell_type": "markdown",
   "metadata": {},
   "source": [
    "## Teste de uma base de dados sem rachadura"
   ]
  },
  {
   "cell_type": "code",
   "execution_count": 381,
   "metadata": {},
   "outputs": [
    {
     "name": "stdout",
     "output_type": "stream",
     "text": [
      "1/1 [==============================] - 0s 62ms/step\n",
      "1/1 [==============================] - 0s 23ms/step\n",
      "1/1 [==============================] - 0s 21ms/step\n",
      "1/1 [==============================] - 0s 19ms/step\n",
      "1/1 [==============================] - 0s 18ms/step\n",
      "1/1 [==============================] - 0s 20ms/step\n",
      "1/1 [==============================] - 0s 18ms/step\n",
      "1/1 [==============================] - 0s 18ms/step\n",
      "1/1 [==============================] - 0s 17ms/step\n",
      "1/1 [==============================] - 0s 19ms/step\n",
      "1/1 [==============================] - 0s 18ms/step\n",
      "1/1 [==============================] - 0s 19ms/step\n",
      "1/1 [==============================] - 0s 19ms/step\n",
      "1/1 [==============================] - 0s 24ms/step\n",
      "1/1 [==============================] - 0s 19ms/step\n",
      "1/1 [==============================] - 0s 24ms/step\n",
      "1/1 [==============================] - 0s 25ms/step\n",
      "1/1 [==============================] - 0s 22ms/step\n",
      "1/1 [==============================] - 0s 27ms/step\n",
      "1/1 [==============================] - 0s 22ms/step\n",
      "1/1 [==============================] - 0s 23ms/step\n",
      "1/1 [==============================] - 0s 21ms/step\n",
      "1/1 [==============================] - 0s 20ms/step\n",
      "1/1 [==============================] - 0s 20ms/step\n",
      "1/1 [==============================] - 0s 20ms/step\n",
      "1/1 [==============================] - 0s 20ms/step\n",
      "1/1 [==============================] - 0s 19ms/step\n",
      "1/1 [==============================] - 0s 23ms/step\n",
      "1/1 [==============================] - 0s 21ms/step\n",
      "1/1 [==============================] - 0s 19ms/step\n",
      "1/1 [==============================] - 0s 21ms/step\n",
      "1/1 [==============================] - 0s 20ms/step\n",
      "1/1 [==============================] - 0s 20ms/step\n",
      "1/1 [==============================] - 0s 20ms/step\n",
      "1/1 [==============================] - 0s 18ms/step\n",
      "1/1 [==============================] - 0s 19ms/step\n",
      "1/1 [==============================] - 0s 19ms/step\n",
      "1/1 [==============================] - 0s 26ms/step\n",
      "1/1 [==============================] - 0s 20ms/step\n",
      "1/1 [==============================] - 0s 18ms/step\n",
      "1/1 [==============================] - 0s 16ms/step\n",
      "1/1 [==============================] - 0s 16ms/step\n",
      "1/1 [==============================] - 0s 16ms/step\n",
      "1/1 [==============================] - 0s 17ms/step\n",
      "1/1 [==============================] - 0s 17ms/step\n",
      "1/1 [==============================] - 0s 17ms/step\n",
      "1/1 [==============================] - 0s 19ms/step\n",
      "1/1 [==============================] - 0s 18ms/step\n",
      "1/1 [==============================] - 0s 19ms/step\n",
      "1/1 [==============================] - 0s 18ms/step\n"
     ]
    }
   ],
   "source": [
    "\n",
    "# Load the pre-trained model\n",
    "model = load_model(var_pesos+'.h5')\n",
    "\n",
    "# Set the folder path containing the images\n",
    "folder_path = 'output/validation/Negative'\n",
    "\n",
    "# Initialize empty lists for storing predictions\n",
    "negative_predictions = []\n",
    "\n",
    "# Iterate over the images in the folder\n",
    "for root, dirs, files in os.walk(folder_path):\n",
    "    for file in files:\n",
    "        # Load and preprocess the image\n",
    "        image_path = os.path.join(root, file)\n",
    "        image = load_img(image_path, target_size=(224, 224))\n",
    "        img = img_to_array(image)\n",
    "        img = img / 255.0\n",
    "        img = np.expand_dims(img, axis=0)\n",
    "\n",
    "        # Make a prediction using the model\n",
    "        pred = model.predict(img)\n",
    "        negative_predictions.append(pred[0][0])\n",
    "\n",
    "# Convert the negative_predictions to numpy array\n",
    "negative_predictions = np.array(negative_predictions)\n",
    "\n",
    "\n"
   ]
  },
  {
   "attachments": {},
   "cell_type": "markdown",
   "metadata": {},
   "source": [
    "## Plot dos Resultados obtidos da base_negativa"
   ]
  },
  {
   "cell_type": "code",
   "execution_count": 382,
   "metadata": {},
   "outputs": [
    {
     "data": {
      "image/png": "[encoded data removed]",
      "text/plain": [
       "<Figure size 640x480 with 1 Axes>"
      ]
     },
     "metadata": {},
     "output_type": "display_data"
    }
   ],
   "source": [
    "# Plot the histogram\n",
    "plt.hist(negative_predictions, bins=15, edgecolor='black', range=(0,1))\n",
    "plt.axvline(x=0.35,color='red',linestyle='dashed')\n",
    "plt.xlabel('Predicted Class')\n",
    "plt.ylabel('Count')\n",
    "#plt.xticks([0.35, 0.5, 0.65], ['Negative', 'Neutral', 'Positive'])  # Adjust the labels based on your classes\n",
    "plt.title('Distribution of Predicted Classes for Negative Images')\n",
    "plt.show()"
   ]
  },
  {
   "attachments": {},
   "cell_type": "markdown",
   "metadata": {},
   "source": [
    "## Teste de uma base de dados com rachadura"
   ]
  },
  {
   "cell_type": "code",
   "execution_count": 383,
   "metadata": {},
   "outputs": [
    {
     "name": "stdout",
     "output_type": "stream",
     "text": [
      "1/1 [==============================] - 0s 58ms/step\n",
      "1/1 [==============================] - 0s 23ms/step\n",
      "1/1 [==============================] - 0s 23ms/step\n",
      "1/1 [==============================] - 0s 21ms/step\n",
      "1/1 [==============================] - 0s 20ms/step\n",
      "1/1 [==============================] - 0s 21ms/step\n",
      "1/1 [==============================] - 0s 21ms/step\n",
      "1/1 [==============================] - 0s 20ms/step\n",
      "1/1 [==============================] - 0s 20ms/step\n",
      "1/1 [==============================] - 0s 20ms/step\n",
      "1/1 [==============================] - 0s 24ms/step\n",
      "1/1 [==============================] - 0s 26ms/step\n",
      "1/1 [==============================] - 0s 21ms/step\n",
      "1/1 [==============================] - 0s 19ms/step\n",
      "1/1 [==============================] - 0s 21ms/step\n",
      "1/1 [==============================] - 0s 21ms/step\n",
      "1/1 [==============================] - 0s 23ms/step\n",
      "1/1 [==============================] - 0s 19ms/step\n",
      "1/1 [==============================] - 0s 21ms/step\n",
      "1/1 [==============================] - 0s 21ms/step\n",
      "1/1 [==============================] - 0s 26ms/step\n",
      "1/1 [==============================] - 0s 21ms/step\n",
      "1/1 [==============================] - 0s 21ms/step\n",
      "1/1 [==============================] - 0s 24ms/step\n",
      "1/1 [==============================] - 0s 19ms/step\n",
      "1/1 [==============================] - 0s 19ms/step\n",
      "1/1 [==============================] - 0s 19ms/step\n",
      "1/1 [==============================] - 0s 19ms/step\n",
      "1/1 [==============================] - 0s 19ms/step\n",
      "1/1 [==============================] - 0s 20ms/step\n",
      "1/1 [==============================] - 0s 20ms/step\n",
      "1/1 [==============================] - 0s 20ms/step\n",
      "1/1 [==============================] - 0s 19ms/step\n",
      "1/1 [==============================] - 0s 23ms/step\n",
      "1/1 [==============================] - 0s 19ms/step\n",
      "1/1 [==============================] - 0s 19ms/step\n",
      "1/1 [==============================] - 0s 18ms/step\n",
      "1/1 [==============================] - 0s 20ms/step\n",
      "1/1 [==============================] - 0s 20ms/step\n",
      "1/1 [==============================] - 0s 21ms/step\n",
      "1/1 [==============================] - 0s 20ms/step\n",
      "1/1 [==============================] - 0s 21ms/step\n",
      "1/1 [==============================] - 0s 19ms/step\n",
      "1/1 [==============================] - 0s 20ms/step\n",
      "1/1 [==============================] - 0s 23ms/step\n",
      "1/1 [==============================] - 0s 20ms/step\n",
      "1/1 [==============================] - 0s 20ms/step\n",
      "1/1 [==============================] - 0s 21ms/step\n",
      "1/1 [==============================] - 0s 20ms/step\n",
      "1/1 [==============================] - 0s 19ms/step\n"
     ]
    }
   ],
   "source": [
    "\n",
    "# Load the pre-trained model\n",
    "model = load_model(var_pesos+'.h5')\n",
    "\n",
    "# Set the folder path containing the images\n",
    "folder_path = 'output/validation/Positive'\n",
    "\n",
    "# Initialize empty lists for storing predictions\n",
    "positive_predictions = []\n",
    "\n",
    "# Iterate over the images in the folder\n",
    "for root, dirs, files in os.walk(folder_path):\n",
    "    for file in files:\n",
    "        # Load and preprocess the image\n",
    "        image_path = os.path.join(root, file)\n",
    "        image = load_img(image_path, target_size=(224, 224))\n",
    "        img = img_to_array(image)\n",
    "        img = img / 255.0\n",
    "        img = np.expand_dims(img, axis=0)\n",
    "\n",
    "        # Make a prediction using the model\n",
    "        pred = model.predict(img)\n",
    "        positive_predictions.append(pred[0][0])\n",
    "\n",
    "# Convert the predictions to numpy array\n",
    "positive_predictions = np.array(positive_predictions)\n",
    "\n"
   ]
  },
  {
   "attachments": {},
   "cell_type": "markdown",
   "metadata": {},
   "source": [
    "## Plot dos Resultados obtidos da base_positiva"
   ]
  },
  {
   "cell_type": "code",
   "execution_count": 384,
   "metadata": {},
   "outputs": [
    {
     "data": {
      "image/png": "[encoded data removed]",
      "text/plain": [
       "<Figure size 640x480 with 1 Axes>"
      ]
     },
     "metadata": {},
     "output_type": "display_data"
    }
   ],
   "source": [
    "\n",
    "# Plot the histogram\n",
    "plt.hist(positive_predictions, bins=15, edgecolor='black', range=(0,1))\n",
    "plt.axvline(x=0.65,color='red',linestyle='dashed')\n",
    "plt.xlabel('Predicted Class')\n",
    "plt.ylabel('Count')\n",
    "#plt.xticks([0.35, 0.5, 0.65], ['Negative', 'Neutral', 'Positive'])  # Adjust the labels based on your classes\n",
    "plt.title('Distribution of Predicted Classes for Positive Images')\n",
    "plt.show()"
   ]
  },
  {
   "attachments": {},
   "cell_type": "markdown",
   "metadata": {},
   "source": [
    "## Salvar os resultados no DataFrame de Neurônios"
   ]
  },
  {
   "cell_type": "code",
   "execution_count": 385,
   "metadata": {},
   "outputs": [],
   "source": [
    "dic.loc[dic['Save']==var_pesos,'Acertos']=len(positive_predictions[positive_predictions>=0.65])+len(negative_predictions[negative_predictions<=0.35])\n",
    "dic.loc[dic['Save']==var_pesos,'Erros']=len(positive_predictions)+len(negative_predictions)-dic.loc[dic['Save']==var_pesos,'Acertos']"
   ]
  },
  {
   "attachments": {},
   "cell_type": "markdown",
   "metadata": {},
   "source": [
    "## Exportar os resultados para csv"
   ]
  },
  {
   "cell_type": "code",
   "execution_count": 388,
   "metadata": {},
   "outputs": [],
   "source": [
    "dic.to_csv('Dicionario_dados.csv')"
   ]
  },
  {
   "attachments": {},
   "cell_type": "markdown",
   "metadata": {},
   "source": [
    "## Gráficos de Acertos por tempo para dados obtidos com 3 camadas de neurônios"
   ]
  },
  {
   "cell_type": "code",
   "execution_count": 393,
   "metadata": {},
   "outputs": [],
   "source": [
    "Threelay=dic.copy()"
   ]
  },
  {
   "cell_type": "code",
   "execution_count": 394,
   "metadata": {},
   "outputs": [],
   "source": [
    "Threelay.drop([8,9],inplace=True)"
   ]
  },
  {
   "cell_type": "code",
   "execution_count": 403,
   "metadata": {},
   "outputs": [
    {
     "data": {
      "image/png": "[encoded data removed]",
      "text/plain": [
       "<Figure size 640x480 with 1 Axes>"
      ]
     },
     "metadata": {},
     "output_type": "display_data"
    }
   ],
   "source": [
    "plt.plot(Threelay['Time'],Threelay['Acertos'],'*')\n",
    "plt.xlabel('Tempo de processamento')\n",
    "plt.ylabel('Acertos')\n",
    "plt.title('Acertos na identificação por tempo de processamento para 3 camadas')\n",
    "plt.savefig(' Acertos na identificação por tempo de processamento para 3 camadas.png')"
   ]
  }
 ],
 "metadata": {
  "kernelspec": {
   "display_name": "Python 3",
   "language": "python",
   "name": "python3"
  },
  "language_info": {
   "codemirror_mode": {
    "name": "ipython",
    "version": 3
   },
   "file_extension": ".py",
   "mimetype": "text/x-python",
   "name": "python",
   "nbconvert_exporter": "python",
   "pygments_lexer": "ipython3",
   "version": "3.10.6"
  },
  "orig_nbformat": 4
 },
 "nbformat": 4,
 "nbformat_minor": 2
}
